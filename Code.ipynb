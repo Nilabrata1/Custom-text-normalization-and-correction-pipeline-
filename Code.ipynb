{
 "cells": [
  {
   "cell_type": "code",
   "execution_count": 1,
   "metadata": {},
   "outputs": [
    {
     "name": "stderr",
     "output_type": "stream",
     "text": [
      "Matplotlib is building the font cache; this may take a moment.\n"
     ]
    }
   ],
   "source": [
    "import numpy as np\n",
    "import pandas as pd\n",
    "import matplotlib.pyplot as plt"
   ]
  },
  {
   "cell_type": "markdown",
   "metadata": {},
   "source": [
    "# Loading the excel datasheet and creating dataframe\n",
    "using pandas library  to read the excel file\n"
   ]
  },
  {
   "cell_type": "code",
   "execution_count": 2,
   "metadata": {},
   "outputs": [
    {
     "data": {
      "text/html": [
       "<div>\n",
       "<style scoped>\n",
       "    .dataframe tbody tr th:only-of-type {\n",
       "        vertical-align: middle;\n",
       "    }\n",
       "\n",
       "    .dataframe tbody tr th {\n",
       "        vertical-align: top;\n",
       "    }\n",
       "\n",
       "    .dataframe thead th {\n",
       "        text-align: right;\n",
       "    }\n",
       "</style>\n",
       "<table border=\"1\" class=\"dataframe\">\n",
       "  <thead>\n",
       "    <tr style=\"text-align: right;\">\n",
       "      <th></th>\n",
       "      <th>PASSION</th>\n",
       "    </tr>\n",
       "  </thead>\n",
       "  <tbody>\n",
       "    <tr>\n",
       "      <th>0</th>\n",
       "      <td>cokter</td>\n",
       "    </tr>\n",
       "    <tr>\n",
       "      <th>1</th>\n",
       "      <td>dentiists</td>\n",
       "    </tr>\n",
       "    <tr>\n",
       "      <th>2</th>\n",
       "      <td>Enginir</td>\n",
       "    </tr>\n",
       "    <tr>\n",
       "      <th>3</th>\n",
       "      <td>PoLICE</td>\n",
       "    </tr>\n",
       "    <tr>\n",
       "      <th>4</th>\n",
       "      <td>engneiear</td>\n",
       "    </tr>\n",
       "    <tr>\n",
       "      <th>...</th>\n",
       "      <td>...</td>\n",
       "    </tr>\n",
       "    <tr>\n",
       "      <th>1401</th>\n",
       "      <td>enginir</td>\n",
       "    </tr>\n",
       "    <tr>\n",
       "      <th>1402</th>\n",
       "      <td>aCcountANT</td>\n",
       "    </tr>\n",
       "    <tr>\n",
       "      <th>1403</th>\n",
       "      <td>accountant</td>\n",
       "    </tr>\n",
       "    <tr>\n",
       "      <th>1404</th>\n",
       "      <td>POlIcE</td>\n",
       "    </tr>\n",
       "    <tr>\n",
       "      <th>1405</th>\n",
       "      <td>enjineer</td>\n",
       "    </tr>\n",
       "  </tbody>\n",
       "</table>\n",
       "<p>1406 rows × 1 columns</p>\n",
       "</div>"
      ],
      "text/plain": [
       "         PASSION\n",
       "0         cokter\n",
       "1      dentiists\n",
       "2        Enginir\n",
       "3         PoLICE\n",
       "4      engneiear\n",
       "...          ...\n",
       "1401     enginir\n",
       "1402  aCcountANT\n",
       "1403  accountant\n",
       "1404      POlIcE\n",
       "1405    enjineer\n",
       "\n",
       "[1406 rows x 1 columns]"
      ]
     },
     "execution_count": 2,
     "metadata": {},
     "output_type": "execute_result"
    }
   ],
   "source": [
    "TaskData = pd.DataFrame()\n",
    "excel_data=pd.read_excel('TaskData.xlsx', header=None)\n",
    "TaskData['PASSION']=excel_data\n",
    "TaskData "
   ]
  },
  {
   "cell_type": "markdown",
   "metadata": {},
   "source": [
    "# Defining Cosine similarity using vectorization\n",
    "word1 is converted to vec1 and similarly word 2 to vec2 by using array in pandas"
   ]
  },
  {
   "cell_type": "code",
   "execution_count": 3,
   "metadata": {},
   "outputs": [],
   "source": [
    "\n",
    "def cosine_similarity(word1 , word2):\n",
    "    \n",
    "    word1 = ''.join((word1.lower()))\n",
    "    word2 = ''.join((word2.lower()))\n",
    "\n",
    "    vec1 = [word1.count(chr(i)) for i in range(ord('a'), ord('z')+1)]\n",
    "    vec2 = [word2.count(chr(i)) for i in range(ord('a'), ord('z')+1)]\n",
    "    \n",
    "    vec1 = np.array(vec1)\n",
    "    vec2 = np.array(vec2)\n",
    "\n",
    "    dot_product = np.dot(vec1, vec2)\n",
    "    n1 = np.linalg.norm(vec1)\n",
    "    n2 = np.linalg.norm(vec2)\n",
    "\n",
    "    cosine_similarity = dot_product / (n1 * n2)\n",
    "    cosine_similarity = cosine_similarity * 100\n",
    "\n",
    "    return cosine_similarity"
   ]
  },
  {
   "cell_type": "markdown",
   "metadata": {},
   "source": [
    "# Getting the cosine similarity grid"
   ]
  },
  {
   "cell_type": "code",
   "execution_count": 4,
   "metadata": {},
   "outputs": [
    {
     "data": {
      "text/html": [
       "<div>\n",
       "<style scoped>\n",
       "    .dataframe tbody tr th:only-of-type {\n",
       "        vertical-align: middle;\n",
       "    }\n",
       "\n",
       "    .dataframe tbody tr th {\n",
       "        vertical-align: top;\n",
       "    }\n",
       "\n",
       "    .dataframe thead th {\n",
       "        text-align: right;\n",
       "    }\n",
       "</style>\n",
       "<table border=\"1\" class=\"dataframe\">\n",
       "  <thead>\n",
       "    <tr style=\"text-align: right;\">\n",
       "      <th></th>\n",
       "      <th>PASSION</th>\n",
       "      <th>Doctor</th>\n",
       "      <th>Lawyer</th>\n",
       "      <th>Teacher</th>\n",
       "      <th>Engineer</th>\n",
       "      <th>Accountant</th>\n",
       "      <th>Nurse</th>\n",
       "      <th>Police</th>\n",
       "      <th>Architect</th>\n",
       "      <th>Dentist</th>\n",
       "      <th>Pharmacist</th>\n",
       "    </tr>\n",
       "  </thead>\n",
       "  <tbody>\n",
       "    <tr>\n",
       "      <th>0</th>\n",
       "      <td>cokter</td>\n",
       "      <td>72.168784</td>\n",
       "      <td>33.333333</td>\n",
       "      <td>68.041382</td>\n",
       "      <td>40.824829</td>\n",
       "      <td>48.112522</td>\n",
       "      <td>36.514837</td>\n",
       "      <td>50.000000</td>\n",
       "      <td>67.936622</td>\n",
       "      <td>40.824829</td>\n",
       "      <td>35.355339</td>\n",
       "    </tr>\n",
       "    <tr>\n",
       "      <th>1</th>\n",
       "      <td>dentiists</td>\n",
       "      <td>27.386128</td>\n",
       "      <td>10.540926</td>\n",
       "      <td>34.426519</td>\n",
       "      <td>45.184806</td>\n",
       "      <td>36.514837</td>\n",
       "      <td>46.188022</td>\n",
       "      <td>31.622777</td>\n",
       "      <td>50.128041</td>\n",
       "      <td>94.672926</td>\n",
       "      <td>44.721360</td>\n",
       "    </tr>\n",
       "    <tr>\n",
       "      <th>2</th>\n",
       "      <td>Enginir</td>\n",
       "      <td>10.660036</td>\n",
       "      <td>24.618298</td>\n",
       "      <td>30.151134</td>\n",
       "      <td>82.915620</td>\n",
       "      <td>28.426762</td>\n",
       "      <td>53.935989</td>\n",
       "      <td>36.927447</td>\n",
       "      <td>33.449680</td>\n",
       "      <td>50.251891</td>\n",
       "      <td>26.111648</td>\n",
       "    </tr>\n",
       "    <tr>\n",
       "      <th>3</th>\n",
       "      <td>PoLICE</td>\n",
       "      <td>43.301270</td>\n",
       "      <td>33.333333</td>\n",
       "      <td>40.824829</td>\n",
       "      <td>40.824829</td>\n",
       "      <td>28.867513</td>\n",
       "      <td>18.257419</td>\n",
       "      <td>100.000000</td>\n",
       "      <td>45.291081</td>\n",
       "      <td>27.216553</td>\n",
       "      <td>35.355339</td>\n",
       "    </tr>\n",
       "    <tr>\n",
       "      <th>4</th>\n",
       "      <td>engneiear</td>\n",
       "      <td>8.574929</td>\n",
       "      <td>49.507377</td>\n",
       "      <td>64.676167</td>\n",
       "      <td>97.014250</td>\n",
       "      <td>34.299717</td>\n",
       "      <td>65.079137</td>\n",
       "      <td>39.605902</td>\n",
       "      <td>40.360368</td>\n",
       "      <td>48.507125</td>\n",
       "      <td>28.005602</td>\n",
       "    </tr>\n",
       "    <tr>\n",
       "      <th>...</th>\n",
       "      <td>...</td>\n",
       "      <td>...</td>\n",
       "      <td>...</td>\n",
       "      <td>...</td>\n",
       "      <td>...</td>\n",
       "      <td>...</td>\n",
       "      <td>...</td>\n",
       "      <td>...</td>\n",
       "      <td>...</td>\n",
       "      <td>...</td>\n",
       "      <td>...</td>\n",
       "    </tr>\n",
       "    <tr>\n",
       "      <th>1401</th>\n",
       "      <td>enginir</td>\n",
       "      <td>10.660036</td>\n",
       "      <td>24.618298</td>\n",
       "      <td>30.151134</td>\n",
       "      <td>82.915620</td>\n",
       "      <td>28.426762</td>\n",
       "      <td>53.935989</td>\n",
       "      <td>36.927447</td>\n",
       "      <td>33.449680</td>\n",
       "      <td>50.251891</td>\n",
       "      <td>26.111648</td>\n",
       "    </tr>\n",
       "    <tr>\n",
       "      <th>1402</th>\n",
       "      <td>aCcountANT</td>\n",
       "      <td>50.000000</td>\n",
       "      <td>19.245009</td>\n",
       "      <td>47.140452</td>\n",
       "      <td>23.570226</td>\n",
       "      <td>100.000000</td>\n",
       "      <td>31.622777</td>\n",
       "      <td>28.867513</td>\n",
       "      <td>65.372045</td>\n",
       "      <td>47.140452</td>\n",
       "      <td>54.433105</td>\n",
       "    </tr>\n",
       "    <tr>\n",
       "      <th>1403</th>\n",
       "      <td>accountant</td>\n",
       "      <td>50.000000</td>\n",
       "      <td>19.245009</td>\n",
       "      <td>47.140452</td>\n",
       "      <td>23.570226</td>\n",
       "      <td>100.000000</td>\n",
       "      <td>31.622777</td>\n",
       "      <td>28.867513</td>\n",
       "      <td>65.372045</td>\n",
       "      <td>47.140452</td>\n",
       "      <td>54.433105</td>\n",
       "    </tr>\n",
       "    <tr>\n",
       "      <th>1404</th>\n",
       "      <td>POlIcE</td>\n",
       "      <td>43.301270</td>\n",
       "      <td>33.333333</td>\n",
       "      <td>40.824829</td>\n",
       "      <td>40.824829</td>\n",
       "      <td>28.867513</td>\n",
       "      <td>18.257419</td>\n",
       "      <td>100.000000</td>\n",
       "      <td>45.291081</td>\n",
       "      <td>27.216553</td>\n",
       "      <td>35.355339</td>\n",
       "    </tr>\n",
       "    <tr>\n",
       "      <th>1405</th>\n",
       "      <td>enjineer</td>\n",
       "      <td>8.838835</td>\n",
       "      <td>40.824829</td>\n",
       "      <td>58.333333</td>\n",
       "      <td>93.750000</td>\n",
       "      <td>23.570226</td>\n",
       "      <td>67.082039</td>\n",
       "      <td>40.824829</td>\n",
       "      <td>34.668762</td>\n",
       "      <td>50.000000</td>\n",
       "      <td>14.433757</td>\n",
       "    </tr>\n",
       "  </tbody>\n",
       "</table>\n",
       "<p>1406 rows × 11 columns</p>\n",
       "</div>"
      ],
      "text/plain": [
       "         PASSION     Doctor     Lawyer    Teacher   Engineer  Accountant  \\\n",
       "0         cokter  72.168784  33.333333  68.041382  40.824829   48.112522   \n",
       "1      dentiists  27.386128  10.540926  34.426519  45.184806   36.514837   \n",
       "2        Enginir  10.660036  24.618298  30.151134  82.915620   28.426762   \n",
       "3         PoLICE  43.301270  33.333333  40.824829  40.824829   28.867513   \n",
       "4      engneiear   8.574929  49.507377  64.676167  97.014250   34.299717   \n",
       "...          ...        ...        ...        ...        ...         ...   \n",
       "1401     enginir  10.660036  24.618298  30.151134  82.915620   28.426762   \n",
       "1402  aCcountANT  50.000000  19.245009  47.140452  23.570226  100.000000   \n",
       "1403  accountant  50.000000  19.245009  47.140452  23.570226  100.000000   \n",
       "1404      POlIcE  43.301270  33.333333  40.824829  40.824829   28.867513   \n",
       "1405    enjineer   8.838835  40.824829  58.333333  93.750000   23.570226   \n",
       "\n",
       "          Nurse      Police  Architect    Dentist  Pharmacist  \n",
       "0     36.514837   50.000000  67.936622  40.824829   35.355339  \n",
       "1     46.188022   31.622777  50.128041  94.672926   44.721360  \n",
       "2     53.935989   36.927447  33.449680  50.251891   26.111648  \n",
       "3     18.257419  100.000000  45.291081  27.216553   35.355339  \n",
       "4     65.079137   39.605902  40.360368  48.507125   28.005602  \n",
       "...         ...         ...        ...        ...         ...  \n",
       "1401  53.935989   36.927447  33.449680  50.251891   26.111648  \n",
       "1402  31.622777   28.867513  65.372045  47.140452   54.433105  \n",
       "1403  31.622777   28.867513  65.372045  47.140452   54.433105  \n",
       "1404  18.257419  100.000000  45.291081  27.216553   35.355339  \n",
       "1405  67.082039   40.824829  34.668762  50.000000   14.433757  \n",
       "\n",
       "[1406 rows x 11 columns]"
      ]
     },
     "execution_count": 4,
     "metadata": {},
     "output_type": "execute_result"
    }
   ],
   "source": [
    "professions = ['Doctor', 'Lawyer', 'Teacher', 'Engineer', 'Accountant', 'Nurse', 'Police', 'Architect', 'Dentist', 'Pharmacist']\n",
    "\n",
    "for profession in professions:\n",
    "    TaskData[profession] = TaskData['PASSION'].apply(lambda x: cosine_similarity(x, profession))\n",
    "    \n",
    "TaskData\n",
    "\n"
   ]
  },
  {
   "cell_type": "markdown",
   "metadata": {},
   "source": [
    "# Getting the Max similarity solumn\n",
    ".idxmax(axis=1): This method is is being used to find the column label of the maximum value for each row. \n",
    "The axis=1 argument specifies that the operation is to be performed across columns (i.e., horizontally).\n",
    "\n"
   ]
  },
  {
   "cell_type": "code",
   "execution_count": 5,
   "metadata": {},
   "outputs": [
    {
     "data": {
      "text/plain": [
       "Max_Similarity_Column\n",
       "Engineer      328\n",
       "Teacher       209\n",
       "Dentist       192\n",
       "Doctor        191\n",
       "Police        162\n",
       "Nurse          85\n",
       "Lawyer         82\n",
       "Architect      70\n",
       "Pharmacist     53\n",
       "Accountant     34\n",
       "Name: count, dtype: int64"
      ]
     },
     "execution_count": 5,
     "metadata": {},
     "output_type": "execute_result"
    }
   ],
   "source": [
    "\n",
    "TaskData['Max_Similarity_Column'] = TaskData[professions].idxmax(axis=1)\n",
    "\n",
    "profession_freq = TaskData['Max_Similarity_Column'].value_counts()\n",
    "profession_freq"
   ]
  },
  {
   "cell_type": "markdown",
   "metadata": {},
   "source": [
    "# Plotting the graph 'Frequency of Career Choices based on Max Similarity'"
   ]
  },
  {
   "cell_type": "code",
   "execution_count": 6,
   "metadata": {},
   "outputs": [
    {
     "data": {
      "image/png": "[encoded data removed]",
      "text/plain": [
       "<Figure size 1000x600 with 1 Axes>"
      ]
     },
     "metadata": {},
     "output_type": "display_data"
    }
   ],
   "source": [
    "# Count the frequency of each career choice\n",
    "career_frequency = TaskData['Max_Similarity_Column'].value_counts()\n",
    "\n",
    "# Plotting the bar chart\n",
    "plt.figure(figsize=(10, 6))\n",
    "career_frequency.plot(kind='bar', color='seagreen')\n",
    "plt.title('Frequency of Career Choices based on Max Similarity')\n",
    "plt.xlabel('Career Choice')\n",
    "plt.ylabel('Frequency')\n",
    "plt.xticks(rotation=50, ha='right')\n",
    "plt.tight_layout()\n",
    "plt.show()\n"
   ]
  },
  {
   "cell_type": "markdown",
   "metadata": {},
   "source": [
    "# Getting the required output files"
   ]
  },
  {
   "cell_type": "code",
   "execution_count": 7,
   "metadata": {},
   "outputs": [],
   "source": [
    "new_df = TaskData[['PASSION', 'Max_Similarity_Column']]\n",
    "new_df.to_csv('output.csv')\n",
    "TaskData.to_csv('data.csv')\n"
   ]
  },
  {
   "cell_type": "markdown",
   "metadata": {},
   "source": [
    "# Checking with .iloc"
   ]
  },
  {
   "cell_type": "code",
   "execution_count": 8,
   "metadata": {},
   "outputs": [
    {
     "data": {
      "text/plain": [
       "50.0"
      ]
     },
     "execution_count": 8,
     "metadata": {},
     "output_type": "execute_result"
    }
   ],
   "source": [
    "TaskData['Doctor'].iloc[1402]"
   ]
  },
  {
   "cell_type": "code",
   "execution_count": 9,
   "metadata": {},
   "outputs": [
    {
     "data": {
      "text/plain": [
       "47.14045207910317"
      ]
     },
     "execution_count": 9,
     "metadata": {},
     "output_type": "execute_result"
    }
   ],
   "source": [
    "TaskData['Teacher'].iloc[1402]"
   ]
  }
 ],
 "metadata": {
  "kernelspec": {
   "display_name": "Python 3",
   "language": "python",
   "name": "python3"
  },
  "language_info": {
   "codemirror_mode": {
    "name": "ipython",
    "version": 3
   },
   "file_extension": ".py",
   "mimetype": "text/x-python",
   "name": "python",
   "nbconvert_exporter": "python",
   "pygments_lexer": "ipython3",
   "version": "3.11.9"
  }
 },
 "nbformat": 4,
 "nbformat_minor": 2
}
